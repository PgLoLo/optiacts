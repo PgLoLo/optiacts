{
 "cells": [
  {
   "cell_type": "code",
   "execution_count": 1,
   "id": "0ab3731e-533d-4c01-8ec9-491af391d106",
   "metadata": {},
   "outputs": [],
   "source": [
    "import torch\n",
    "import transformers\n",
    "\n",
    "import optiacts"
   ]
  },
  {
   "cell_type": "code",
   "execution_count": 2,
   "id": "2ca32fa8-b4de-4c96-8f5c-13a264ecc577",
   "metadata": {},
   "outputs": [],
   "source": [
    "from transformers import BertConfig, BertModel\n",
    "\n",
    "def print_stats():\n",
    "    stats = torch.cuda.memory_stats()\n",
    "    print(f'allocated: {stats[\"active_bytes.all.current\"] / 2**30:.3}Gb, peak: {stats[\"active_bytes.all.peak\"] / 2**30:.3}Gb')"
   ]
  },
  {
   "cell_type": "code",
   "execution_count": 3,
   "id": "bc5739ba-b88c-4975-89f5-29bc59778d50",
   "metadata": {},
   "outputs": [],
   "source": [
    "model = BertModel(BertConfig()).cuda()\n",
    "def run():\n",
    "    out = model(torch.randint(0, 1000, [16, model.config.max_position_embeddings], device='cuda'))\n",
    "    print_stats()"
   ]
  },
  {
   "cell_type": "code",
   "execution_count": 4,
   "id": "34018088-de88-444d-89e0-36274b495794",
   "metadata": {},
   "outputs": [
    {
     "name": "stdout",
     "output_type": "stream",
     "text": [
      "Model memory:\n",
      "allocated: 0.409Gb, peak: 0.409Gb\n"
     ]
    }
   ],
   "source": [
    "print('Model memory:')\n",
    "print_stats()"
   ]
  },
  {
   "cell_type": "code",
   "execution_count": 5,
   "id": "38771dfb-ea02-4dff-8334-7d4d8b7dcc06",
   "metadata": {},
   "outputs": [
    {
     "name": "stdout",
     "output_type": "stream",
     "text": [
      "Standard activations memory:\n",
      "allocated: 5.12Gb, peak: 5.14Gb\n"
     ]
    }
   ],
   "source": [
    "print('Standard activations memory:')\n",
    "run()"
   ]
  },
  {
   "cell_type": "code",
   "execution_count": 6,
   "id": "17f1a874-8c2e-4822-94f9-7c6b49ed9bc3",
   "metadata": {},
   "outputs": [
    {
     "name": "stdout",
     "output_type": "stream",
     "text": [
      "Memory with optiacts:\n",
      "allocated: 4.03Gb, peak: 4.07Gb\n"
     ]
    }
   ],
   "source": [
    "# Replace all activations\n",
    "for layer in model.encoder.layer:\n",
    "    layer.intermediate.intermediate_act_fn = optiacts.GELU()\n",
    "torch.cuda.reset_peak_memory_stats()\n",
    "\n",
    "print('Memory with optiacts:')\n",
    "run()"
   ]
  }
 ],
 "metadata": {
  "kernelspec": {
   "display_name": "Python 3 (ipykernel)",
   "language": "python",
   "name": "python3"
  },
  "language_info": {
   "codemirror_mode": {
    "name": "ipython",
    "version": 3
   },
   "file_extension": ".py",
   "mimetype": "text/x-python",
   "name": "python",
   "nbconvert_exporter": "python",
   "pygments_lexer": "ipython3",
   "version": "3.11.9"
  },
  "widgets": {
   "application/vnd.jupyter.widget-state+json": {
    "state": {},
    "version_major": 2,
    "version_minor": 0
   }
  }
 },
 "nbformat": 4,
 "nbformat_minor": 5
}
